{
 "cells": [
  {
   "cell_type": "code",
   "execution_count": 1,
   "id": "0baf0327-f165-4232-8252-af6a6fb362df",
   "metadata": {},
   "outputs": [],
   "source": [
    "d = {}"
   ]
  },
  {
   "cell_type": "code",
   "execution_count": 2,
   "id": "0286b79c-a6d3-431a-a209-94bf640ab1c0",
   "metadata": {},
   "outputs": [
    {
     "data": {
      "text/plain": [
       "dict"
      ]
     },
     "execution_count": 2,
     "metadata": {},
     "output_type": "execute_result"
    }
   ],
   "source": [
    "type(d)"
   ]
  },
  {
   "cell_type": "code",
   "execution_count": 3,
   "id": "410866ac-9036-41d6-a000-6595cb52a537",
   "metadata": {},
   "outputs": [],
   "source": [
    "d1 = {'key' :\"sudh\"}"
   ]
  },
  {
   "cell_type": "code",
   "execution_count": 4,
   "id": "013acb00-ca81-46a9-a671-90564d50c639",
   "metadata": {},
   "outputs": [
    {
     "data": {
      "text/plain": [
       "{'key': 'sudh'}"
      ]
     },
     "execution_count": 4,
     "metadata": {},
     "output_type": "execute_result"
    }
   ],
   "source": [
    "d1"
   ]
  },
  {
   "cell_type": "code",
   "execution_count": 5,
   "id": "2fc7aa78-1985-4578-92a1-6e6e716c5c52",
   "metadata": {},
   "outputs": [],
   "source": [
    "d2 = {'name': \"sudhansu\", \"email\" : \"ss@gmail.com\", \"number\" :334534}"
   ]
  },
  {
   "cell_type": "code",
   "execution_count": 6,
   "id": "aab80b5c-aa9e-40b0-837e-f8ecc3d7cb80",
   "metadata": {},
   "outputs": [
    {
     "data": {
      "text/plain": [
       "{'name': 'sudhansu', 'email': 'ss@gmail.com', 'number': 334534}"
      ]
     },
     "execution_count": 6,
     "metadata": {},
     "output_type": "execute_result"
    }
   ],
   "source": [
    "d2"
   ]
  },
  {
   "cell_type": "code",
   "execution_count": 12,
   "id": "a9f271ab-e642-4a86-9700-917a44975985",
   "metadata": {},
   "outputs": [],
   "source": [
    "d3 ={234:\"sudh\",\"_wgr\":\"kumar\" , True : 2324}"
   ]
  },
  {
   "cell_type": "code",
   "execution_count": 13,
   "id": "d2bfd364-898e-41f4-b016-416834ac0b0a",
   "metadata": {},
   "outputs": [
    {
     "data": {
      "text/plain": [
       "{234: 'sudh', '_wgr': 'kumar', True: 2324}"
      ]
     },
     "execution_count": 13,
     "metadata": {},
     "output_type": "execute_result"
    }
   ],
   "source": [
    "d3"
   ]
  },
  {
   "cell_type": "code",
   "execution_count": 14,
   "id": "3375922a-d26d-4ab9-a220-1ebab68b1d35",
   "metadata": {},
   "outputs": [
    {
     "ename": "TypeError",
     "evalue": "'dict' object is not callable",
     "output_type": "error",
     "traceback": [
      "\u001b[0;31m---------------------------------------------------------------------------\u001b[0m",
      "\u001b[0;31mTypeError\u001b[0m                                 Traceback (most recent call last)",
      "Cell \u001b[0;32mIn[14], line 1\u001b[0m\n\u001b[0;32m----> 1\u001b[0m \u001b[43md3\u001b[49m\u001b[43m(\u001b[49m\u001b[38;5;241;43m1\u001b[39;49m\u001b[43m)\u001b[49m\n",
      "\u001b[0;31mTypeError\u001b[0m: 'dict' object is not callable"
     ]
    }
   ],
   "source": [
    "d3(1)"
   ]
  },
  {
   "cell_type": "code",
   "execution_count": 15,
   "id": "de5d0843-35ca-4956-88cc-34933a2ee1ee",
   "metadata": {},
   "outputs": [
    {
     "ename": "TypeError",
     "evalue": "'dict' object is not callable",
     "output_type": "error",
     "traceback": [
      "\u001b[0;31m---------------------------------------------------------------------------\u001b[0m",
      "\u001b[0;31mTypeError\u001b[0m                                 Traceback (most recent call last)",
      "Cell \u001b[0;32mIn[15], line 1\u001b[0m\n\u001b[0;32m----> 1\u001b[0m \u001b[43md3\u001b[49m\u001b[43m(\u001b[49m\u001b[38;5;241;43m234\u001b[39;49m\u001b[43m)\u001b[49m\n",
      "\u001b[0;31mTypeError\u001b[0m: 'dict' object is not callable"
     ]
    }
   ],
   "source": [
    "d3(234)"
   ]
  },
  {
   "cell_type": "code",
   "execution_count": 16,
   "id": "4be982e2-c529-4698-9d37-96c87593c01a",
   "metadata": {},
   "outputs": [
    {
     "data": {
      "text/plain": [
       "{234: 'sudh', '_wgr': 'kumar', True: 2324}"
      ]
     },
     "execution_count": 16,
     "metadata": {},
     "output_type": "execute_result"
    }
   ],
   "source": [
    "d3"
   ]
  },
  {
   "cell_type": "code",
   "execution_count": 18,
   "id": "3e8c1f01-1e65-4041-bf9b-8710f21b44af",
   "metadata": {},
   "outputs": [
    {
     "data": {
      "text/plain": [
       "'sudh'"
      ]
     },
     "execution_count": 18,
     "metadata": {},
     "output_type": "execute_result"
    }
   ],
   "source": [
    "d3[234]"
   ]
  },
  {
   "cell_type": "code",
   "execution_count": 19,
   "id": "c644fe22-ea1c-4abb-a56b-26dfd3672da9",
   "metadata": {},
   "outputs": [
    {
     "data": {
      "text/plain": [
       "2324"
      ]
     },
     "execution_count": 19,
     "metadata": {},
     "output_type": "execute_result"
    }
   ],
   "source": [
    "d3[True]"
   ]
  },
  {
   "cell_type": "code",
   "execution_count": 20,
   "id": "9ad393fd-acbe-411b-8e38-57b0293f8e3a",
   "metadata": {},
   "outputs": [
    {
     "data": {
      "text/plain": [
       "2324"
      ]
     },
     "execution_count": 20,
     "metadata": {},
     "output_type": "execute_result"
    }
   ],
   "source": [
    "d3[1]"
   ]
  },
  {
   "cell_type": "code",
   "execution_count": 24,
   "id": "d7388514-8232-418f-a1a4-dbfc800e9e21",
   "metadata": {},
   "outputs": [],
   "source": [
    "d4 ={\"name\" : \"sudh\" , 'mail_id' : \"asd@gmail.com\", \"name\" : \"sudhansu\"}"
   ]
  },
  {
   "cell_type": "code",
   "execution_count": 25,
   "id": "eac98dd4-adc9-4f65-b25a-a0508b9ffd68",
   "metadata": {},
   "outputs": [
    {
     "data": {
      "text/plain": [
       "{'name': 'sudhansu', 'mail_id': 'asd@gmail.com'}"
      ]
     },
     "execution_count": 25,
     "metadata": {},
     "output_type": "execute_result"
    }
   ],
   "source": [
    "d4"
   ]
  },
  {
   "cell_type": "code",
   "execution_count": 26,
   "id": "6e0564a9-343d-4c9f-b525-43f61185c1e7",
   "metadata": {},
   "outputs": [
    {
     "data": {
      "text/plain": [
       "'sudhansu'"
      ]
     },
     "execution_count": 26,
     "metadata": {},
     "output_type": "execute_result"
    }
   ],
   "source": [
    "d4['name']"
   ]
  },
  {
   "cell_type": "code",
   "execution_count": 27,
   "id": "fb2bdf57-f618-4b34-8006-8cd63f056e7b",
   "metadata": {},
   "outputs": [],
   "source": [
    "d5 = {\"company\":\"pwskills\",\"courses\":[\"web dev\" ,\"data Science\",\"java\",\"systemdesign\"]}"
   ]
  },
  {
   "cell_type": "code",
   "execution_count": 28,
   "id": "5833f9b2-6ad5-42c4-923d-832683656f26",
   "metadata": {},
   "outputs": [
    {
     "data": {
      "text/plain": [
       "{'company': 'pwskills',\n",
       " 'courses': ['web dev', 'data Science', 'java', 'systemdesign']}"
      ]
     },
     "execution_count": 28,
     "metadata": {},
     "output_type": "execute_result"
    }
   ],
   "source": [
    "d5"
   ]
  },
  {
   "cell_type": "code",
   "execution_count": 29,
   "id": "c043522c-3b40-4075-b4e5-e5cb264d35ea",
   "metadata": {},
   "outputs": [
    {
     "data": {
      "text/plain": [
       "'java'"
      ]
     },
     "execution_count": 29,
     "metadata": {},
     "output_type": "execute_result"
    }
   ],
   "source": [
    "d5['courses'][2]"
   ]
  },
  {
   "cell_type": "code",
   "execution_count": 31,
   "id": "42402f45-b956-4faa-bf1f-8b118f7228ab",
   "metadata": {},
   "outputs": [
    {
     "ename": "SyntaxError",
     "evalue": "invalid syntax. Perhaps you forgot a comma? (960081533.py, line 1)",
     "output_type": "error",
     "traceback": [
      "\u001b[0;36m  Cell \u001b[0;32mIn[31], line 1\u001b[0;36m\u001b[0m\n\u001b[0;31m    d6 ={\"number\" : [2,3,4,34],\"assignment\":(1,2,3,4,5,6),\"launch_date\":{28,12,14}\"class_time\":{\"web dev\":8,\"data Science\":8,\"java\":7}}\u001b[0m\n\u001b[0m                                                                        ^\u001b[0m\n\u001b[0;31mSyntaxError\u001b[0m\u001b[0;31m:\u001b[0m invalid syntax. Perhaps you forgot a comma?\n"
     ]
    }
   ],
   "source": [
    "d6 ={\"number\" : [2,3,4,34],\"assignment\":(1,2,3,4,5,6),\"launch_date\":{28,12,14}\"class_time\":{\"web dev\":8,\"data Science\":8,\"java\":7}}"
   ]
  },
  {
   "cell_type": "code",
   "execution_count": 32,
   "id": "40ca6e6f-d7f9-4247-9913-9b53b66a265f",
   "metadata": {},
   "outputs": [],
   "source": [
    "d6 ={\"number\" : [2,3,4,34],\"assignment\":(1,2,3,4,5,6),\"launch_date\":{28,12,14},\"class_time\":{\"web dev\":8,\"data Science\":8,\"java\":7}}"
   ]
  },
  {
   "cell_type": "code",
   "execution_count": 33,
   "id": "01f47bb1-21a6-40c1-8aff-107b20700e85",
   "metadata": {},
   "outputs": [
    {
     "data": {
      "text/plain": [
       "{'number': [2, 3, 4, 34],\n",
       " 'assignment': (1, 2, 3, 4, 5, 6),\n",
       " 'launch_date': {12, 14, 28},\n",
       " 'class_time': {'web dev': 8, 'data Science': 8, 'java': 7}}"
      ]
     },
     "execution_count": 33,
     "metadata": {},
     "output_type": "execute_result"
    }
   ],
   "source": [
    "d6"
   ]
  },
  {
   "cell_type": "code",
   "execution_count": 34,
   "id": "1b6f826a-554a-4e6e-b667-f7cf43467e4f",
   "metadata": {},
   "outputs": [
    {
     "ename": "NameError",
     "evalue": "name 'java' is not defined",
     "output_type": "error",
     "traceback": [
      "\u001b[0;31m---------------------------------------------------------------------------\u001b[0m",
      "\u001b[0;31mNameError\u001b[0m                                 Traceback (most recent call last)",
      "Cell \u001b[0;32mIn[34], line 1\u001b[0m\n\u001b[0;32m----> 1\u001b[0m d6[\u001b[43mjava\u001b[49m]\n",
      "\u001b[0;31mNameError\u001b[0m: name 'java' is not defined"
     ]
    }
   ],
   "source": [
    "d6[java]"
   ]
  },
  {
   "cell_type": "code",
   "execution_count": 36,
   "id": "6f0557c1-993d-411c-b299-bcab87f30cd8",
   "metadata": {},
   "outputs": [
    {
     "data": {
      "text/plain": [
       "7"
      ]
     },
     "execution_count": 36,
     "metadata": {},
     "output_type": "execute_result"
    }
   ],
   "source": [
    "d6['class_time']['java']"
   ]
  },
  {
   "cell_type": "code",
   "execution_count": 37,
   "id": "33dc9e97-0330-4681-a516-ee34c2473727",
   "metadata": {},
   "outputs": [],
   "source": [
    "d6['mentor']=['sudhansu','krish','anurag','haider']"
   ]
  },
  {
   "cell_type": "code",
   "execution_count": 38,
   "id": "175e8598-203e-4351-95ad-a0c0562c9833",
   "metadata": {},
   "outputs": [
    {
     "data": {
      "text/plain": [
       "{'number': [2, 3, 4, 34],\n",
       " 'assignment': (1, 2, 3, 4, 5, 6),\n",
       " 'launch_date': {12, 14, 28},\n",
       " 'class_time': {'web dev': 8, 'data Science': 8, 'java': 7},\n",
       " 'mentor': ['sudhansu', 'krish', 'anurag', 'haider']}"
      ]
     },
     "execution_count": 38,
     "metadata": {},
     "output_type": "execute_result"
    }
   ],
   "source": [
    "d6"
   ]
  },
  {
   "cell_type": "code",
   "execution_count": 39,
   "id": "902f1975-205c-49ec-83c6-442b026687c1",
   "metadata": {},
   "outputs": [],
   "source": [
    "del d6['number']"
   ]
  },
  {
   "cell_type": "code",
   "execution_count": 40,
   "id": "0763b494-e5c4-4ceb-8f09-28cbb82ddd62",
   "metadata": {},
   "outputs": [
    {
     "data": {
      "text/plain": [
       "{'assignment': (1, 2, 3, 4, 5, 6),\n",
       " 'launch_date': {12, 14, 28},\n",
       " 'class_time': {'web dev': 8, 'data Science': 8, 'java': 7},\n",
       " 'mentor': ['sudhansu', 'krish', 'anurag', 'haider']}"
      ]
     },
     "execution_count": 40,
     "metadata": {},
     "output_type": "execute_result"
    }
   ],
   "source": [
    "d6"
   ]
  },
  {
   "cell_type": "code",
   "execution_count": 42,
   "id": "5ea3b593-6443-4ebd-8501-6e77cba8e9af",
   "metadata": {},
   "outputs": [
    {
     "data": {
      "text/plain": [
       "['assignment', 'launch_date', 'class_time', 'mentor']"
      ]
     },
     "execution_count": 42,
     "metadata": {},
     "output_type": "execute_result"
    }
   ],
   "source": [
    "list(d6.keys())"
   ]
  },
  {
   "cell_type": "code",
   "execution_count": 43,
   "id": "76dedf93-b4e0-49f6-b47f-7645eb268bf9",
   "metadata": {},
   "outputs": [
    {
     "data": {
      "text/plain": [
       "[(1, 2, 3, 4, 5, 6),\n",
       " {12, 14, 28},\n",
       " {'web dev': 8, 'data Science': 8, 'java': 7},\n",
       " ['sudhansu', 'krish', 'anurag', 'haider']]"
      ]
     },
     "execution_count": 43,
     "metadata": {},
     "output_type": "execute_result"
    }
   ],
   "source": [
    "list(d6.values())"
   ]
  },
  {
   "cell_type": "code",
   "execution_count": 44,
   "id": "b16ec31c-99dc-4fcc-8706-ba7839fabed2",
   "metadata": {},
   "outputs": [
    {
     "data": {
      "text/plain": [
       "dict_items([('assignment', (1, 2, 3, 4, 5, 6)), ('launch_date', {28, 12, 14}), ('class_time', {'web dev': 8, 'data Science': 8, 'java': 7}), ('mentor', ['sudhansu', 'krish', 'anurag', 'haider'])])"
      ]
     },
     "execution_count": 44,
     "metadata": {},
     "output_type": "execute_result"
    }
   ],
   "source": [
    "d6.items()"
   ]
  },
  {
   "cell_type": "code",
   "execution_count": 45,
   "id": "85d625da-282d-4790-94df-fea5301ae917",
   "metadata": {},
   "outputs": [
    {
     "data": {
      "text/plain": [
       "[('assignment', (1, 2, 3, 4, 5, 6)),\n",
       " ('launch_date', {12, 14, 28}),\n",
       " ('class_time', {'web dev': 8, 'data Science': 8, 'java': 7}),\n",
       " ('mentor', ['sudhansu', 'krish', 'anurag', 'haider'])]"
      ]
     },
     "execution_count": 45,
     "metadata": {},
     "output_type": "execute_result"
    }
   ],
   "source": [
    "list(d6.items())"
   ]
  },
  {
   "cell_type": "code",
   "execution_count": 47,
   "id": "01c21d4a-461b-47a9-a49f-c72c8f2c7107",
   "metadata": {},
   "outputs": [
    {
     "data": {
      "text/plain": [
       "(1, 2, 3, 4, 5, 6)"
      ]
     },
     "execution_count": 47,
     "metadata": {},
     "output_type": "execute_result"
    }
   ],
   "source": [
    "d6.pop('assignment')"
   ]
  },
  {
   "cell_type": "code",
   "execution_count": 48,
   "id": "7ab4e547-ea54-4e2d-9ce8-e3b6487981c4",
   "metadata": {},
   "outputs": [
    {
     "data": {
      "text/plain": [
       "[('launch_date', {12, 14, 28}),\n",
       " ('class_time', {'web dev': 8, 'data Science': 8, 'java': 7}),\n",
       " ('mentor', ['sudhansu', 'krish', 'anurag', 'haider'])]"
      ]
     },
     "execution_count": 48,
     "metadata": {},
     "output_type": "execute_result"
    }
   ],
   "source": [
    "list(d6.items())"
   ]
  },
  {
   "cell_type": "code",
   "execution_count": 64,
   "id": "224898dc-df99-43fc-9727-f3f7e756a6b6",
   "metadata": {},
   "outputs": [
    {
     "name": "stdin",
     "output_type": "stream",
     "text": [
      "enter your marks 90\n"
     ]
    },
    {
     "name": "stdout",
     "output_type": "stream",
     "text": [
      "you will be a part of A0 batch\n"
     ]
    }
   ],
   "source": [
    "#control flow like flow or conditional decision\n",
    "marks = int(input(\"enter your marks\"))\n",
    "if marks>=80:\n",
    "    print(\"you will be a part of A0 batch\")\n",
    "elif marks >= 60 and marks< 80 :\n",
    "    print (\"you will be part of A1 Batch\")\n",
    "elif marks >= 40 and marks < 60:\n",
    "        print (\"you will be a part of A2 batch\")\n",
    "else : \n",
    "            print(\"you will be part of A3 batch\")"
   ]
  },
  {
   "cell_type": "code",
   "execution_count": 55,
   "id": "a7e8b959-3b74-4e98-b4e8-b047e558f2fb",
   "metadata": {},
   "outputs": [
    {
     "data": {
      "text/plain": [
       "False"
      ]
     },
     "execution_count": 55,
     "metadata": {},
     "output_type": "execute_result"
    }
   ],
   "source": [
    "10>=80"
   ]
  },
  {
   "cell_type": "code",
   "execution_count": 59,
   "id": "0e16f769-2927-4a87-8082-a7e7c2175de3",
   "metadata": {},
   "outputs": [
    {
     "name": "stdin",
     "output_type": "stream",
     "text": [
      "enter your marks 45\n"
     ]
    }
   ],
   "source": [
    "marks = int(input(\"enter your marks\"))"
   ]
  },
  {
   "cell_type": "code",
   "execution_count": 60,
   "id": "ac26c63f-9e51-41d8-b130-0362c485842a",
   "metadata": {},
   "outputs": [
    {
     "data": {
      "text/plain": [
       "45"
      ]
     },
     "execution_count": 60,
     "metadata": {},
     "output_type": "execute_result"
    }
   ],
   "source": [
    "marks"
   ]
  },
  {
   "cell_type": "code",
   "execution_count": 61,
   "id": "472ac6ce-3628-437e-b02d-b8212d271008",
   "metadata": {},
   "outputs": [
    {
     "data": {
      "text/plain": [
       "int"
      ]
     },
     "execution_count": 61,
     "metadata": {},
     "output_type": "execute_result"
    }
   ],
   "source": [
    "type(marks)"
   ]
  },
  {
   "cell_type": "code",
   "execution_count": 70,
   "id": "67f6a957-2142-4a4d-8197-86e1c5544dea",
   "metadata": {},
   "outputs": [
    {
     "name": "stdin",
     "output_type": "stream",
     "text": [
      "enter price 7000\n"
     ]
    },
    {
     "name": "stdout",
     "output_type": "stream",
     "text": [
      "i will not purchase\n"
     ]
    }
   ],
   "source": [
    "#purchase decision\n",
    "price = int(input(\"enter price\"))\n",
    "if price > 1000:\n",
    "    print(\"i will not purchase\")\n",
    "else :\n",
    "    print(\"i will purchase\")\n",
    "    if price >5000:\n",
    "        print(\"this is too much\")"
   ]
  },
  {
   "cell_type": "code",
   "execution_count": 76,
   "id": "de2bd3e1-5253-4351-af8c-b916541655c3",
   "metadata": {},
   "outputs": [
    {
     "name": "stdin",
     "output_type": "stream",
     "text": [
      "enter price 1500\n"
     ]
    },
    {
     "name": "stdout",
     "output_type": "stream",
     "text": [
      "i will not purchase\n",
      "its ok\n"
     ]
    }
   ],
   "source": [
    "price = int(input(\"enter price\"))\n",
    "if price > 1000:\n",
    "    print(\"i will not purchase\")\n",
    "    if price >5000:\n",
    "        print(\"this is too much\")\n",
    "    elif price < 2000 :\n",
    "        print(\"its ok\")\n",
    "elif price < 1000:\n",
    "    print(\"i will purchase\")\n",
    "else:\n",
    "    print(\"not interested\")\n",
    "    "
   ]
  },
  {
   "cell_type": "code",
   "execution_count": 80,
   "id": "d72b5e75-9ce2-4b40-a559-ed7b66a7ad70",
   "metadata": {},
   "outputs": [],
   "source": [
    "#loop\n",
    "l = [1,2,3,3,4,5,6,7,8]\n",
    "#now how we can add in every number 1\n"
   ]
  },
  {
   "cell_type": "code",
   "execution_count": 84,
   "id": "ad6ad94d-814a-4ef1-85a5-130d48dd020a",
   "metadata": {},
   "outputs": [
    {
     "name": "stdout",
     "output_type": "stream",
     "text": [
      "2\n",
      "3\n",
      "4\n",
      "4\n",
      "5\n",
      "6\n",
      "7\n",
      "8\n",
      "9\n"
     ]
    },
    {
     "data": {
      "text/plain": [
       "[2, 3, 4, 4, 5, 6, 7, 8, 9]"
      ]
     },
     "execution_count": 84,
     "metadata": {},
     "output_type": "execute_result"
    }
   ],
   "source": [
    "l1 = [] \n",
    "for i in l:\n",
    "    print(i+1)\n",
    "    l1.append(i+1)\n",
    "l1"
   ]
  },
  {
   "cell_type": "code",
   "execution_count": 86,
   "id": "b440a9ea-ad62-46e1-8189-9fc6037aae32",
   "metadata": {},
   "outputs": [],
   "source": [
    "l= [\"sudhir\",\"kumar\",\"pwskills\",\"course\"]"
   ]
  },
  {
   "cell_type": "code",
   "execution_count": 85,
   "id": "b3f08f0d-85b6-4e8d-b6df-d71a26efd0a1",
   "metadata": {},
   "outputs": [
    {
     "ename": "SyntaxError",
     "evalue": "unterminated string literal (detected at line 1) (347640528.py, line 1)",
     "output_type": "error",
     "traceback": [
      "\u001b[0;36m  Cell \u001b[0;32mIn[85], line 1\u001b[0;36m\u001b[0m\n\u001b[0;31m    l =['sudh',''kumar','pwskills','course']\u001b[0m\n\u001b[0m                                          ^\u001b[0m\n\u001b[0;31mSyntaxError\u001b[0m\u001b[0;31m:\u001b[0m unterminated string literal (detected at line 1)\n"
     ]
    }
   ],
   "source": [
    "l =['sudh',''kumar','pwskills','course']"
   ]
  },
  {
   "cell_type": "code",
   "execution_count": 87,
   "id": "05e8e1dc-c7ee-4ed5-abb5-4c3a7cc13c72",
   "metadata": {},
   "outputs": [
    {
     "name": "stdout",
     "output_type": "stream",
     "text": [
      "sudhir\n",
      "kumar\n",
      "pwskills\n",
      "course\n"
     ]
    }
   ],
   "source": [
    "for i in l :\n",
    "    print(i)"
   ]
  },
  {
   "cell_type": "code",
   "execution_count": 88,
   "id": "c48b933d-4419-47d0-9884-464b0c527ded",
   "metadata": {},
   "outputs": [
    {
     "name": "stdout",
     "output_type": "stream",
     "text": [
      "sudhir\n",
      "kumar\n",
      "pwskills\n",
      "course\n"
     ]
    }
   ],
   "source": [
    "l1 =[]\n",
    "for i in l :\n",
    "    print(i)\n",
    "    l1.append(i.upper())"
   ]
  },
  {
   "cell_type": "code",
   "execution_count": 89,
   "id": "b4baa6c4-58d4-4531-a993-a15aed174763",
   "metadata": {},
   "outputs": [
    {
     "data": {
      "text/plain": [
       "['SUDHIR', 'KUMAR', 'PWSKILLS', 'COURSE']"
      ]
     },
     "execution_count": 89,
     "metadata": {},
     "output_type": "execute_result"
    }
   ],
   "source": [
    "l1"
   ]
  },
  {
   "cell_type": "code",
   "execution_count": 91,
   "id": "00209608-0352-43f2-97a8-810a9929d186",
   "metadata": {},
   "outputs": [],
   "source": [
    "l = [1,2,3,4,5,\"sudh\",\"kumar\",234,34,45.65,\"abc\"]"
   ]
  },
  {
   "cell_type": "code",
   "execution_count": 94,
   "id": "9e157494-9b6b-4a9f-8d9e-42562cf5e3e1",
   "metadata": {},
   "outputs": [],
   "source": [
    "l1_num =[]\n",
    "l2_str =[]\n",
    "for i in l:\n",
    "    if type(i)== int or type(i)== float:\n",
    "        l1_num.append(i)\n",
    "    else :\n",
    "        l2_str.append(i)"
   ]
  },
  {
   "cell_type": "code",
   "execution_count": 95,
   "id": "cfa08e44-e069-47ce-8af6-d2b35f097668",
   "metadata": {},
   "outputs": [
    {
     "data": {
      "text/plain": [
       "[1, 2, 3, 4, 5, 234, 34, 45.65]"
      ]
     },
     "execution_count": 95,
     "metadata": {},
     "output_type": "execute_result"
    }
   ],
   "source": [
    "l1_num"
   ]
  },
  {
   "cell_type": "code",
   "execution_count": 96,
   "id": "cfad6976-6a01-4b1b-bfc4-1258d2129e41",
   "metadata": {},
   "outputs": [
    {
     "data": {
      "text/plain": [
       "['sudh', 'kumar', 'abc']"
      ]
     },
     "execution_count": 96,
     "metadata": {},
     "output_type": "execute_result"
    }
   ],
   "source": [
    "l2_str"
   ]
  },
  {
   "cell_type": "code",
   "execution_count": null,
   "id": "16b34a8b-735c-4194-9bc4-f3e67c73c97d",
   "metadata": {},
   "outputs": [],
   "source": []
  }
 ],
 "metadata": {
  "kernelspec": {
   "display_name": "Python 3 (ipykernel)",
   "language": "python",
   "name": "python3"
  },
  "language_info": {
   "codemirror_mode": {
    "name": "ipython",
    "version": 3
   },
   "file_extension": ".py",
   "mimetype": "text/x-python",
   "name": "python",
   "nbconvert_exporter": "python",
   "pygments_lexer": "ipython3",
   "version": "3.10.8"
  }
 },
 "nbformat": 4,
 "nbformat_minor": 5
}
